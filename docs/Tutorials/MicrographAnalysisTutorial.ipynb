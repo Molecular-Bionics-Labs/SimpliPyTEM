version https://git-lfs.github.com/spec/v1
oid sha256:10d0aaeffdd771b580a089f9d211a1f7dc7b5db93a01033b4634670e7cb09008
size 65827325
